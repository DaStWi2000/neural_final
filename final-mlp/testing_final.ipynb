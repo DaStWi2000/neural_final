{
 "cells": [
  {
   "cell_type": "code",
   "execution_count": 13,
   "metadata": {},
   "outputs": [],
   "source": [
    "import numpy as np\n",
    "\n",
    "from sklearn.metrics import accuracy_score\n",
    "\n",
    "from sklearn.neural_network import MLPClassifier\n",
    "from sklearn.multiclass import OneVsOneClassifier\n",
    "from sklearn.multiclass import OneVsRestClassifier\n",
    "\n",
    "import pickle \n",
    "import mat73\n",
    "\n",
    "from sklearn.metrics import confusion_matrix, ConfusionMatrixDisplay\n",
    "import matplotlib.pyplot as plt"
   ]
  },
  {
   "cell_type": "code",
   "execution_count": 14,
   "metadata": {},
   "outputs": [],
   "source": [
    "labels =  mat73.loadmat('./data/encode_labels.mat')['labels']"
   ]
  },
  {
   "cell_type": "code",
   "execution_count": 15,
   "metadata": {},
   "outputs": [
    {
     "data": {
      "text/plain": [
       "['1', '2', '3', '4', 'R', 'W', 't']"
      ]
     },
     "execution_count": 15,
     "metadata": {},
     "output_type": "execute_result"
    }
   ],
   "source": [
    "labels"
   ]
  },
  {
   "cell_type": "code",
   "execution_count": 16,
   "metadata": {},
   "outputs": [],
   "source": [
    "X_train = np.load('./data_processed/X_train.npy')\n",
    "t_train = np.load('./data_processed/t_train.npy')\n",
    "X_test = np.load('./data_processed/X_test.npy')\n",
    "t_test = np.load('./data_processed/t_test.npy')"
   ]
  },
  {
   "attachments": {},
   "cell_type": "markdown",
   "metadata": {},
   "source": [
    "### Model 1 - One vs One MLP Classifier (Default Settings)"
   ]
  },
  {
   "cell_type": "code",
   "execution_count": 17,
   "metadata": {},
   "outputs": [],
   "source": [
    "with open('./models/model1.pkl', 'rb') as f:\n",
    "    clf1 = pickle.load(f)"
   ]
  },
  {
   "cell_type": "code",
   "execution_count": 18,
   "metadata": {},
   "outputs": [
    {
     "name": "stdout",
     "output_type": "stream",
     "text": [
      "Training accuracy: 67.91%\n",
      "Test accuracy: 39.29%\n"
     ]
    }
   ],
   "source": [
    "# Calculate training and test accuracy\n",
    "y_train = clf1.predict(X_train)\n",
    "y_test = clf1.predict(X_test)\n",
    "\n",
    "print('Training accuracy: %.2f%%' % (100*accuracy_score(t_train, y_train)))\n",
    "print('Test accuracy: %.2f%%' % (100*accuracy_score(t_test, y_test)))"
   ]
  },
  {
   "cell_type": "code",
   "execution_count": 19,
   "metadata": {},
   "outputs": [
    {
     "name": "stderr",
     "output_type": "stream",
     "text": [
      "/home/simong/anaconda3/lib/python3.9/site-packages/sklearn/utils/deprecation.py:87: FutureWarning: Function plot_confusion_matrix is deprecated; Function `plot_confusion_matrix` is deprecated in 1.0 and will be removed in 1.2. Use one of the class methods: ConfusionMatrixDisplay.from_predictions or ConfusionMatrixDisplay.from_estimator.\n",
      "  warnings.warn(msg, category=FutureWarning)\n"
     ]
    },
    {
     "ename": "TypeError",
     "evalue": "plot_confusion_matrix() got an unexpected keyword argument 'classes'",
     "output_type": "error",
     "traceback": [
      "\u001b[0;31m---------------------------------------------------------------------------\u001b[0m",
      "\u001b[0;31mTypeError\u001b[0m                                 Traceback (most recent call last)",
      "\u001b[0;32m/tmp/ipykernel_11996/358100049.py\u001b[0m in \u001b[0;36m<module>\u001b[0;34m\u001b[0m\n\u001b[0;32m----> 1\u001b[0;31m \u001b[0mplot_confusion_matrix\u001b[0m\u001b[0;34m(\u001b[0m\u001b[0mt_train\u001b[0m\u001b[0;34m,\u001b[0m \u001b[0my_train\u001b[0m\u001b[0;34m,\u001b[0m \u001b[0mclasses\u001b[0m\u001b[0;34m=\u001b[0m\u001b[0mlabels\u001b[0m\u001b[0;34m,\u001b[0m \u001b[0mtitle\u001b[0m\u001b[0;34m=\u001b[0m\u001b[0;34m'Model 1 Training - Confusion matrix'\u001b[0m\u001b[0;34m)\u001b[0m\u001b[0;34m\u001b[0m\u001b[0;34m\u001b[0m\u001b[0m\n\u001b[0m\u001b[1;32m      2\u001b[0m \u001b[0mplt\u001b[0m\u001b[0;34m.\u001b[0m\u001b[0mshow\u001b[0m\u001b[0;34m(\u001b[0m\u001b[0;34m)\u001b[0m\u001b[0;34m\u001b[0m\u001b[0;34m\u001b[0m\u001b[0m\n",
      "\u001b[0;32m~/anaconda3/lib/python3.9/site-packages/sklearn/utils/deprecation.py\u001b[0m in \u001b[0;36mwrapped\u001b[0;34m(*args, **kwargs)\u001b[0m\n\u001b[1;32m     86\u001b[0m         \u001b[0;32mdef\u001b[0m \u001b[0mwrapped\u001b[0m\u001b[0;34m(\u001b[0m\u001b[0;34m*\u001b[0m\u001b[0margs\u001b[0m\u001b[0;34m,\u001b[0m \u001b[0;34m**\u001b[0m\u001b[0mkwargs\u001b[0m\u001b[0;34m)\u001b[0m\u001b[0;34m:\u001b[0m\u001b[0;34m\u001b[0m\u001b[0;34m\u001b[0m\u001b[0m\n\u001b[1;32m     87\u001b[0m             \u001b[0mwarnings\u001b[0m\u001b[0;34m.\u001b[0m\u001b[0mwarn\u001b[0m\u001b[0;34m(\u001b[0m\u001b[0mmsg\u001b[0m\u001b[0;34m,\u001b[0m \u001b[0mcategory\u001b[0m\u001b[0;34m=\u001b[0m\u001b[0mFutureWarning\u001b[0m\u001b[0;34m)\u001b[0m\u001b[0;34m\u001b[0m\u001b[0;34m\u001b[0m\u001b[0m\n\u001b[0;32m---> 88\u001b[0;31m             \u001b[0;32mreturn\u001b[0m \u001b[0mfun\u001b[0m\u001b[0;34m(\u001b[0m\u001b[0;34m*\u001b[0m\u001b[0margs\u001b[0m\u001b[0;34m,\u001b[0m \u001b[0;34m**\u001b[0m\u001b[0mkwargs\u001b[0m\u001b[0;34m)\u001b[0m\u001b[0;34m\u001b[0m\u001b[0;34m\u001b[0m\u001b[0m\n\u001b[0m\u001b[1;32m     89\u001b[0m \u001b[0;34m\u001b[0m\u001b[0m\n\u001b[1;32m     90\u001b[0m         \u001b[0mwrapped\u001b[0m\u001b[0;34m.\u001b[0m\u001b[0m__doc__\u001b[0m \u001b[0;34m=\u001b[0m \u001b[0mself\u001b[0m\u001b[0;34m.\u001b[0m\u001b[0m_update_doc\u001b[0m\u001b[0;34m(\u001b[0m\u001b[0mwrapped\u001b[0m\u001b[0;34m.\u001b[0m\u001b[0m__doc__\u001b[0m\u001b[0;34m)\u001b[0m\u001b[0;34m\u001b[0m\u001b[0;34m\u001b[0m\u001b[0m\n",
      "\u001b[0;31mTypeError\u001b[0m: plot_confusion_matrix() got an unexpected keyword argument 'classes'"
     ]
    }
   ],
   "source": [
    "# Training Confusion Matrix\n",
    "training_confusion_matrix = confusion_matrix(t_train, y_train)\n",
    "disp = ConfusionMatrixDisplay(confusion_matrix=training_confusion_matrix, display_labels=labels)\n",
    "# Make the confusion matrix plot larger\n",
    "fig, ax = plt.subplots(figsize=(15, 15))\n",
    "disp = disp.plot(include_values=True, ax=ax, xticks_rotation='horizontal')"
   ]
  },
  {
   "cell_type": "code",
   "execution_count": null,
   "metadata": {},
   "outputs": [],
   "source": [
    "# Testing Confusion Matrix\n",
    "testing_confusion_matrix = confusion_matrix(t_test, y_test)\n",
    "disp = ConfusionMatrixDisplay(confusion_matrix=testing_confusion_matrix, display_labels=labels)\n",
    "# Make the confusion matrix plot larger\n",
    "fig, ax = plt.subplots(figsize=(15, 15))\n",
    "disp = disp.plot(include_values=True, ax=ax, xticks_rotation='horizontal')"
   ]
  },
  {
   "attachments": {},
   "cell_type": "markdown",
   "metadata": {},
   "source": [
    "### Model 2 - One vs Rest MLP Classifier (Default Settings)"
   ]
  },
  {
   "cell_type": "code",
   "execution_count": null,
   "metadata": {},
   "outputs": [],
   "source": [
    "with open('./models/model2.pkl', 'rb') as f:\n",
    "    clf2 = pickle.load(f)"
   ]
  },
  {
   "cell_type": "code",
   "execution_count": null,
   "metadata": {},
   "outputs": [
    {
     "name": "stdout",
     "output_type": "stream",
     "text": [
      "Training accuracy: 64.08%\n",
      "Test accuracy: 36.73%\n"
     ]
    }
   ],
   "source": [
    "# Calculate training and test accuracy\n",
    "y_train = clf2.predict(X_train)\n",
    "y_test = clf2.predict(X_test)\n",
    "\n",
    "print('Training accuracy: %.2f%%' % (100*accuracy_score(t_train, y_train)))\n",
    "print('Test accuracy: %.2f%%' % (100*accuracy_score(t_test, y_test)))"
   ]
  },
  {
   "cell_type": "code",
   "execution_count": null,
   "metadata": {},
   "outputs": [],
   "source": [
    "# Training Confusion Matrix\n",
    "training_confusion_matrix = confusion_matrix(t_train, y_train)\n",
    "disp = ConfusionMatrixDisplay(confusion_matrix=training_confusion_matrix, display_labels=labels)\n",
    "# Make the confusion matrix plot larger\n",
    "fig, ax = plt.subplots(figsize=(15, 15))\n",
    "disp = disp.plot(include_values=True, ax=ax, xticks_rotation='horizontal')"
   ]
  },
  {
   "cell_type": "code",
   "execution_count": null,
   "metadata": {},
   "outputs": [],
   "source": [
    "# Testing Confusion Matrix\n",
    "testing_confusion_matrix = confusion_matrix(t_test, y_test)\n",
    "disp = ConfusionMatrixDisplay(confusion_matrix=testing_confusion_matrix, display_labels=labels)\n",
    "# Make the confusion matrix plot larger\n",
    "fig, ax = plt.subplots(figsize=(15, 15))\n",
    "disp = disp.plot(include_values=True, ax=ax, xticks_rotation='horizontal')"
   ]
  },
  {
   "attachments": {},
   "cell_type": "markdown",
   "metadata": {},
   "source": [
    "### Model 3 - One vs One MLP Classifier (100,50,20,10 layers)"
   ]
  },
  {
   "cell_type": "code",
   "execution_count": null,
   "metadata": {},
   "outputs": [],
   "source": [
    "with open('./models/model3.pkl', 'rb') as f:\n",
    "    clf3 = pickle.load(f)"
   ]
  },
  {
   "cell_type": "code",
   "execution_count": null,
   "metadata": {},
   "outputs": [
    {
     "name": "stdout",
     "output_type": "stream",
     "text": [
      "Training accuracy: 79.11%\n",
      "Test accuracy: 40.42%\n"
     ]
    }
   ],
   "source": [
    "# Calculate training and test accuracy\n",
    "y_train = clf3.predict(X_train)\n",
    "y_test = clf3.predict(X_test)\n",
    "\n",
    "print('Training accuracy: %.2f%%' % (100*accuracy_score(t_train, y_train)))\n",
    "print('Test accuracy: %.2f%%' % (100*accuracy_score(t_test, y_test)))"
   ]
  },
  {
   "cell_type": "code",
   "execution_count": null,
   "metadata": {},
   "outputs": [],
   "source": [
    "# Training Confusion Matrix\n",
    "training_confusion_matrix = confusion_matrix(t_train, y_train)\n",
    "disp = ConfusionMatrixDisplay(confusion_matrix=training_confusion_matrix, display_labels=labels)\n",
    "# Make the confusion matrix plot larger\n",
    "fig, ax = plt.subplots(figsize=(15, 15))\n",
    "disp = disp.plot(include_values=True, ax=ax, xticks_rotation='horizontal')"
   ]
  },
  {
   "cell_type": "code",
   "execution_count": null,
   "metadata": {},
   "outputs": [],
   "source": [
    "# Testing Confusion Matrix\n",
    "testing_confusion_matrix = confusion_matrix(t_test, y_test)\n",
    "disp = ConfusionMatrixDisplay(confusion_matrix=testing_confusion_matrix, display_labels=labels)\n",
    "# Make the confusion matrix plot larger\n",
    "fig, ax = plt.subplots(figsize=(15, 15))\n",
    "disp = disp.plot(include_values=True, ax=ax, xticks_rotation='horizontal')"
   ]
  },
  {
   "attachments": {},
   "cell_type": "markdown",
   "metadata": {},
   "source": [
    "### Model 4 - One vs Rest MLP Classifier (100,50,20,10 layers)"
   ]
  },
  {
   "cell_type": "code",
   "execution_count": null,
   "metadata": {},
   "outputs": [],
   "source": [
    "with open('./models/model4.pkl', 'rb') as f:\n",
    "    clf4 = pickle.load(f)"
   ]
  },
  {
   "cell_type": "code",
   "execution_count": null,
   "metadata": {},
   "outputs": [
    {
     "name": "stdout",
     "output_type": "stream",
     "text": [
      "Training accuracy: 76.23%\n",
      "Test accuracy: 39.57%\n"
     ]
    }
   ],
   "source": [
    "# Calculate training and test accuracy\n",
    "y_train = clf4.predict(X_train)\n",
    "y_test = clf4.predict(X_test)\n",
    "\n",
    "print('Training accuracy: %.2f%%' % (100*accuracy_score(t_train, y_train)))\n",
    "print('Test accuracy: %.2f%%' % (100*accuracy_score(t_test, y_test)))"
   ]
  },
  {
   "cell_type": "code",
   "execution_count": null,
   "metadata": {},
   "outputs": [],
   "source": [
    "# Training Confusion Matrix\n",
    "training_confusion_matrix = confusion_matrix(t_train, y_train)\n",
    "disp = ConfusionMatrixDisplay(confusion_matrix=training_confusion_matrix, display_labels=labels)\n",
    "# Make the confusion matrix plot larger\n",
    "fig, ax = plt.subplots(figsize=(15, 15))\n",
    "disp = disp.plot(include_values=True, ax=ax, xticks_rotation='horizontal')"
   ]
  },
  {
   "cell_type": "code",
   "execution_count": null,
   "metadata": {},
   "outputs": [],
   "source": [
    "# Testing Confusion Matrix\n",
    "testing_confusion_matrix = confusion_matrix(t_test, y_test)\n",
    "disp = ConfusionMatrixDisplay(confusion_matrix=testing_confusion_matrix, display_labels=labels)\n",
    "# Make the confusion matrix plot larger\n",
    "fig, ax = plt.subplots(figsize=(15, 15))\n",
    "disp = disp.plot(include_values=True, ax=ax, xticks_rotation='horizontal')"
   ]
  }
 ],
 "metadata": {
  "kernelspec": {
   "display_name": "base",
   "language": "python",
   "name": "python3"
  },
  "language_info": {
   "codemirror_mode": {
    "name": "ipython",
    "version": 3
   },
   "file_extension": ".py",
   "mimetype": "text/x-python",
   "name": "python",
   "nbconvert_exporter": "python",
   "pygments_lexer": "ipython3",
   "version": "3.9.15"
  },
  "orig_nbformat": 4,
  "vscode": {
   "interpreter": {
    "hash": "b5a81fa658f12e1e79dc8217c975b6b57413c027bc13a166564b5f36dc19450f"
   }
  }
 },
 "nbformat": 4,
 "nbformat_minor": 2
}
